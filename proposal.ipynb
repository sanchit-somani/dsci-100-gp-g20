{
 "cells": [
  {
   "cell_type": "markdown",
   "id": "8dd29555-4543-4cd4-bf65-12ab765f876a",
   "metadata": {},
   "source": [
    "# Predicting chest pain in association with heart disease patients in Cleveland:"
   ]
  },
  {
   "cell_type": "markdown",
   "id": "2b08a924-d1b4-4bbc-ac28-97113cbeb5df",
   "metadata": {},
   "source": [
    "## 1. Introduction"
   ]
  },
  {
   "cell_type": "markdown",
   "id": "4a5f7b8e-3063-44e7-9128-0c51a7f951ae",
   "metadata": {},
   "source": [
    "**Provide some relevant background information on the topic so that someone unfamiliar with it will be prepared to understand the rest of your proposal:**\n"
   ]
  },
  {
   "cell_type": "markdown",
   "id": "a13dfc37-e5fd-4d77-8279-6686d0805f31",
   "metadata": {},
   "source": [
    "Heart disease, better known as cardiovascular disease is a prominent and commonly fatal disease that impacts the heart, as well as blood vessels. It covers a broad spectrum of subdiseases, such as arrhythmias, heart failure, and coronary artery disease. Certain deviations in categories like family history, high blood pressure and high cholesterol may make an individual more susceptible to heart diseases. It may be possible to reduce the potential risks if discovered at an early enough stage, however this outcome is not guaranteed. Hence, using the knowledge we have acquired in data science, we have decided to take on the heart disease dataset for our project and discover how resting blood pressure, cholesterol, maximum heart rate achieved, and ST depression induced by exercise can be used to predict the type of chest pain a patient experiences. In this way, we intend to determine the extent to which the type of chest pain contributes to the heart disease the pateint is suffering from. "
   ]
  },
  {
   "cell_type": "markdown",
   "id": "78e3acec-e939-4dc4-a98d-73aee586aa3c",
   "metadata": {},
   "source": [
    "**Identify and describe the dataset that will be used to answer the question**"
   ]
  },
  {
   "cell_type": "markdown",
   "id": "6a1238b6-6f74-4ffb-9090-6094994d66e0",
   "metadata": {},
   "source": [
    "We have decided to use the \"processed.cleveland.data\" dataset for our project. The dataset contains several subcategories which are essential for predicting heart disease. However, we have decided to focus on resting blood pressure, cholesterol, maximum heart rate achieved, and ST depression induced by exercise to predict chest pain. The subcategories are as follows:\n",
    "\n",
    "- cp: chest pain type (1 = typical angina, 2 = atypical angina, 3 = non-anginal pain, 4 = asymptomatic)\r",
    "- trestbps: resting blood pressure (in mmHg)\r",
    "- \n",
    "chol: serum cholesterol in mg/d\n",
    "- thalach: maximum heart rate achieved\n",
    "- oldpeak = ST depression induced by exercise (relative to rest)l\n"
   ]
  },
  {
   "cell_type": "markdown",
   "id": "e71abc9f-510e-4aa7-8012-ca63540c48dc",
   "metadata": {},
   "source": [
    "## 2. Preliminary exploratory data analysis"
   ]
  },
  {
   "cell_type": "code",
   "execution_count": 25,
   "id": "bfc822c6-d3c0-49a7-8886-bf95259720b5",
   "metadata": {},
   "outputs": [
    {
     "name": "stderr",
     "output_type": "stream",
     "text": [
      "also installing the dependencies ‘RANN’, ‘ROSE’\n",
      "\n",
      "\n",
      "Updating HTML index of packages in '.Library'\n",
      "\n",
      "Making 'packages.html' ...\n",
      " done\n",
      "\n"
     ]
    }
   ],
   "source": [
    "library(tidyverse)\n",
    "library(tidymodels)\n",
    "install.packages(\"themis\")\n",
    "library(themis)"
   ]
  },
  {
   "cell_type": "code",
   "execution_count": 30,
   "id": "75357fef-5512-4f21-9f75-8c719ff26176",
   "metadata": {},
   "outputs": [
    {
     "name": "stderr",
     "output_type": "stream",
     "text": [
      "\u001b[1mRows: \u001b[22m\u001b[34m303\u001b[39m \u001b[1mColumns: \u001b[22m\u001b[34m14\u001b[39m\n",
      "\u001b[36m──\u001b[39m \u001b[1mColumn specification\u001b[22m \u001b[36m────────────────────────────────────────────────────────\u001b[39m\n",
      "\u001b[1mDelimiter:\u001b[22m \",\"\n",
      "\u001b[31mchr\u001b[39m  (2): ca, thal\n",
      "\u001b[32mdbl\u001b[39m (12): age, sex, cp, trestbps, chol, fbs, restecg, thalach, exang, oldpea...\n",
      "\n",
      "\u001b[36mℹ\u001b[39m Use `spec()` to retrieve the full column specification for this data.\n",
      "\u001b[36mℹ\u001b[39m Specify the column types or set `show_col_types = FALSE` to quiet this message.\n"
     ]
    },
    {
     "data": {
      "text/html": [
       "<table class=\"dataframe\">\n",
       "<caption>A spec_tbl_df: 5 × 14</caption>\n",
       "<thead>\n",
       "\t<tr><th scope=col>age</th><th scope=col>sex</th><th scope=col>cp</th><th scope=col>trestbps</th><th scope=col>chol</th><th scope=col>fbs</th><th scope=col>restecg</th><th scope=col>thalach</th><th scope=col>exang</th><th scope=col>oldpeak</th><th scope=col>slope</th><th scope=col>ca</th><th scope=col>thal</th><th scope=col>num</th></tr>\n",
       "\t<tr><th scope=col>&lt;dbl&gt;</th><th scope=col>&lt;dbl&gt;</th><th scope=col>&lt;dbl&gt;</th><th scope=col>&lt;dbl&gt;</th><th scope=col>&lt;dbl&gt;</th><th scope=col>&lt;dbl&gt;</th><th scope=col>&lt;dbl&gt;</th><th scope=col>&lt;dbl&gt;</th><th scope=col>&lt;dbl&gt;</th><th scope=col>&lt;dbl&gt;</th><th scope=col>&lt;dbl&gt;</th><th scope=col>&lt;chr&gt;</th><th scope=col>&lt;chr&gt;</th><th scope=col>&lt;dbl&gt;</th></tr>\n",
       "</thead>\n",
       "<tbody>\n",
       "\t<tr><td>63</td><td>1</td><td>1</td><td>145</td><td>233</td><td>1</td><td>2</td><td>150</td><td>0</td><td>2.3</td><td>3</td><td>0.0</td><td>6.0</td><td>0</td></tr>\n",
       "\t<tr><td>67</td><td>1</td><td>4</td><td>160</td><td>286</td><td>0</td><td>2</td><td>108</td><td>1</td><td>1.5</td><td>2</td><td>3.0</td><td>3.0</td><td>2</td></tr>\n",
       "\t<tr><td>67</td><td>1</td><td>4</td><td>120</td><td>229</td><td>0</td><td>2</td><td>129</td><td>1</td><td>2.6</td><td>2</td><td>2.0</td><td>7.0</td><td>1</td></tr>\n",
       "\t<tr><td>37</td><td>1</td><td>3</td><td>130</td><td>250</td><td>0</td><td>0</td><td>187</td><td>0</td><td>3.5</td><td>3</td><td>0.0</td><td>3.0</td><td>0</td></tr>\n",
       "\t<tr><td>41</td><td>0</td><td>2</td><td>130</td><td>204</td><td>0</td><td>2</td><td>172</td><td>0</td><td>1.4</td><td>1</td><td>0.0</td><td>3.0</td><td>0</td></tr>\n",
       "</tbody>\n",
       "</table>\n"
      ],
      "text/latex": [
       "A spec\\_tbl\\_df: 5 × 14\n",
       "\\begin{tabular}{llllllllllllll}\n",
       " age & sex & cp & trestbps & chol & fbs & restecg & thalach & exang & oldpeak & slope & ca & thal & num\\\\\n",
       " <dbl> & <dbl> & <dbl> & <dbl> & <dbl> & <dbl> & <dbl> & <dbl> & <dbl> & <dbl> & <dbl> & <chr> & <chr> & <dbl>\\\\\n",
       "\\hline\n",
       "\t 63 & 1 & 1 & 145 & 233 & 1 & 2 & 150 & 0 & 2.3 & 3 & 0.0 & 6.0 & 0\\\\\n",
       "\t 67 & 1 & 4 & 160 & 286 & 0 & 2 & 108 & 1 & 1.5 & 2 & 3.0 & 3.0 & 2\\\\\n",
       "\t 67 & 1 & 4 & 120 & 229 & 0 & 2 & 129 & 1 & 2.6 & 2 & 2.0 & 7.0 & 1\\\\\n",
       "\t 37 & 1 & 3 & 130 & 250 & 0 & 0 & 187 & 0 & 3.5 & 3 & 0.0 & 3.0 & 0\\\\\n",
       "\t 41 & 0 & 2 & 130 & 204 & 0 & 2 & 172 & 0 & 1.4 & 1 & 0.0 & 3.0 & 0\\\\\n",
       "\\end{tabular}\n"
      ],
      "text/markdown": [
       "\n",
       "A spec_tbl_df: 5 × 14\n",
       "\n",
       "| age &lt;dbl&gt; | sex &lt;dbl&gt; | cp &lt;dbl&gt; | trestbps &lt;dbl&gt; | chol &lt;dbl&gt; | fbs &lt;dbl&gt; | restecg &lt;dbl&gt; | thalach &lt;dbl&gt; | exang &lt;dbl&gt; | oldpeak &lt;dbl&gt; | slope &lt;dbl&gt; | ca &lt;chr&gt; | thal &lt;chr&gt; | num &lt;dbl&gt; |\n",
       "|---|---|---|---|---|---|---|---|---|---|---|---|---|---|\n",
       "| 63 | 1 | 1 | 145 | 233 | 1 | 2 | 150 | 0 | 2.3 | 3 | 0.0 | 6.0 | 0 |\n",
       "| 67 | 1 | 4 | 160 | 286 | 0 | 2 | 108 | 1 | 1.5 | 2 | 3.0 | 3.0 | 2 |\n",
       "| 67 | 1 | 4 | 120 | 229 | 0 | 2 | 129 | 1 | 2.6 | 2 | 2.0 | 7.0 | 1 |\n",
       "| 37 | 1 | 3 | 130 | 250 | 0 | 0 | 187 | 0 | 3.5 | 3 | 0.0 | 3.0 | 0 |\n",
       "| 41 | 0 | 2 | 130 | 204 | 0 | 2 | 172 | 0 | 1.4 | 1 | 0.0 | 3.0 | 0 |\n",
       "\n"
      ],
      "text/plain": [
       "  age sex cp trestbps chol fbs restecg thalach exang oldpeak slope ca  thal num\n",
       "1 63  1   1  145      233  1   2       150     0     2.3     3     0.0 6.0  0  \n",
       "2 67  1   4  160      286  0   2       108     1     1.5     2     3.0 3.0  2  \n",
       "3 67  1   4  120      229  0   2       129     1     2.6     2     2.0 7.0  1  \n",
       "4 37  1   3  130      250  0   0       187     0     3.5     3     0.0 3.0  0  \n",
       "5 41  0   2  130      204  0   2       172     0     1.4     1     0.0 3.0  0  "
      ]
     },
     "metadata": {},
     "output_type": "display_data"
    }
   ],
   "source": [
    "cleveland <- read_csv(\"processed.cleveland.data.csv\", \n",
    "                      col_names = c(\"age\",\n",
    "                                    \"sex\", #c #1 male, 0 female\n",
    "                                     \"cp\", #c #chest pain type\n",
    "                                    \"trestbps\", \n",
    "                                    \"chol\", \n",
    "                                    \"fbs\", #c\n",
    "                                    \"restecg\", #c\n",
    "                                    \"thalach\", \n",
    "                                    \"exang\", #c\n",
    "                                    \"oldpeak\", \n",
    "                                    \"slope\", #c\n",
    "                                    \"ca\", \n",
    "                                    \"thal\", #c\n",
    "                                    \"num\"))\n",
    "slice(cleveland, 1: 5)\n",
    "#chest pain type based on predictor variables"
   ]
  },
  {
   "cell_type": "code",
   "execution_count": 43,
   "id": "248ef48c-85a4-4650-9a2a-efecfc480693",
   "metadata": {},
   "outputs": [
    {
     "data": {
      "text/html": [
       "0.957095709570957"
      ],
      "text/latex": [
       "0.957095709570957"
      ],
      "text/markdown": [
       "0.957095709570957"
      ],
      "text/plain": [
       "[1] 0.9570957"
      ]
     },
     "metadata": {},
     "output_type": "display_data"
    }
   ],
   "source": [
    "set.seed(101)\n",
    "\n",
    "data <- select(cleveland, trestbps, chol, thalach, oldpeak, cp) |>\n",
    "mutate(cp = as_factor(cp))\n",
    "\n",
    "spec <- nearest_neighbor(weight_func = \"rectangular\", neighbors =2) |>\n",
    "set_engine(\"kknn\") |>\n",
    "set_mode(\"classification\")\n",
    "\n",
    "heart_recipe <- recipe(cp ~ trestbps + chol + thalach + oldpeak, data = data) |>\n",
    "step_scale(all_predictors()) |>\n",
    "step_center(all_predictors()) |>\n",
    "step_upsample(cp, over_ratio = 1)\n",
    "\n",
    "heart_wf <- workflow() |>\n",
    "add_recipe(heart_recipe) |>\n",
    "add_model(spec) |>\n",
    "fit(data = data)\n",
    "\n",
    "preds <- predict(heart_wf, data) |>\n",
    "bind_cols(data)\n",
    "\n",
    "\n",
    "accuracy <- nrow(filter(preds, .pred_class == cp))/303\n",
    "accuracy \n",
    "\n",
    "# neighbors vs. accuracy\n",
    "# 5 - .63\n",
    "# 10 - .51\n",
    "# 7 - .56\n",
    "# 3 - .72\n",
    "# 2 - .95\n",
    "\n",
    "\n",
    "# improvements:\n",
    "# 1. tune neighbours for max accuracy\n",
    "# 2. oversample data in a better way, since cp type 1 is way less common than cp type 4 in the dataset."
   ]
  },
  {
   "cell_type": "code",
   "execution_count": 18,
   "id": "1f0aac84-92ca-47b5-8073-1f9840984fda",
   "metadata": {},
   "outputs": [
    {
     "data": {
      "text/html": [
       "<table class=\"dataframe\">\n",
       "<caption>A tibble: 4 × 2</caption>\n",
       "<thead>\n",
       "\t<tr><th scope=col>cp</th><th scope=col>count</th></tr>\n",
       "\t<tr><th scope=col>&lt;fct&gt;</th><th scope=col>&lt;int&gt;</th></tr>\n",
       "</thead>\n",
       "<tbody>\n",
       "\t<tr><td>1</td><td> 23</td></tr>\n",
       "\t<tr><td>2</td><td> 50</td></tr>\n",
       "\t<tr><td>3</td><td> 86</td></tr>\n",
       "\t<tr><td>4</td><td>144</td></tr>\n",
       "</tbody>\n",
       "</table>\n"
      ],
      "text/latex": [
       "A tibble: 4 × 2\n",
       "\\begin{tabular}{ll}\n",
       " cp & count\\\\\n",
       " <fct> & <int>\\\\\n",
       "\\hline\n",
       "\t 1 &  23\\\\\n",
       "\t 2 &  50\\\\\n",
       "\t 3 &  86\\\\\n",
       "\t 4 & 144\\\\\n",
       "\\end{tabular}\n"
      ],
      "text/markdown": [
       "\n",
       "A tibble: 4 × 2\n",
       "\n",
       "| cp &lt;fct&gt; | count &lt;int&gt; |\n",
       "|---|---|\n",
       "| 1 |  23 |\n",
       "| 2 |  50 |\n",
       "| 3 |  86 |\n",
       "| 4 | 144 |\n",
       "\n"
      ],
      "text/plain": [
       "  cp count\n",
       "1 1   23  \n",
       "2 2   50  \n",
       "3 3   86  \n",
       "4 4  144  "
      ]
     },
     "metadata": {},
     "output_type": "display_data"
    }
   ],
   "source": [
    "counts <- data |>\n",
    "group_by(cp) |>\n",
    "summarize(count=n())\n",
    "\n",
    "counts"
   ]
  },
  {
   "cell_type": "markdown",
   "id": "32968ebc-f134-4fb5-9721-3b6748e95ff1",
   "metadata": {},
   "source": [
    "## 3. Methods"
   ]
  },
  {
   "cell_type": "markdown",
   "id": "1e048168-137e-4120-8b2e-19b54499d82c",
   "metadata": {},
   "source": [
    "## 4. Expected outcomes and significance"
   ]
  },
  {
   "cell_type": "markdown",
   "id": "7b756846-d673-477e-a80f-f219dd73207b",
   "metadata": {},
   "source": [
    "**What do you expect to find?**"
   ]
  },
  {
   "cell_type": "markdown",
   "id": "de5d9ed1-989a-4297-be98-13c244b185a1",
   "metadata": {},
   "source": [
    "We expect to uncover how well resting blood pressure, cholesterol, maximum heart rate achieved, and ST depression can be used to predict chest pain type, which we expect would give more insight towards the heart disease a patient is suffering from."
   ]
  },
  {
   "cell_type": "markdown",
   "id": "fa18b2f7-2b3c-4bdc-993c-2ed3f7c80710",
   "metadata": {},
   "source": [
    "**What impact could such findings have?**"
   ]
  },
  {
   "cell_type": "markdown",
   "id": "df619d23-3abb-4056-8909-1446e3013cc1",
   "metadata": {},
   "source": [
    "It is imperative to have more insight on the possible causes of heart disease, as that would aid health professionals in diagnosing heart disease at an early stage. That way prompt administration of the appropriate treatment could inherently enhance survival rates. "
   ]
  },
  {
   "cell_type": "markdown",
   "id": "da8a0fdf-2c53-4e87-a3ab-5be7876d37a8",
   "metadata": {},
   "source": [
    "**What future questions could this lead to?**"
   ]
  },
  {
   "cell_type": "markdown",
   "id": "c03d2413-29dd-492c-b737-bdd64fd29b10",
   "metadata": {},
   "source": [
    "- Could there possibly be better predicting categories than the ones we have chosen, for example whether the patient is a smoker or not?\n",
    "- Is the accuracy of our predictor, chest pain type, good enough in providing more insight for health professionals to diagnose heart disease?"
   ]
  }
 ],
 "metadata": {
  "kernelspec": {
   "display_name": "R",
   "language": "R",
   "name": "ir"
  },
  "language_info": {
   "codemirror_mode": "r",
   "file_extension": ".r",
   "mimetype": "text/x-r-source",
   "name": "R",
   "pygments_lexer": "r",
   "version": "4.3.1"
  }
 },
 "nbformat": 4,
 "nbformat_minor": 5
}
